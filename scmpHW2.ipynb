{
  "nbformat": 4,
  "nbformat_minor": 0,
  "metadata": {
    "colab": {
      "name": "scmpHW2.ipynb",
      "provenance": [],
      "include_colab_link": true
    },
    "kernelspec": {
      "name": "python3",
      "display_name": "Python 3"
    }
  },
  "cells": [
    {
      "cell_type": "markdown",
      "metadata": {
        "id": "view-in-github",
        "colab_type": "text"
      },
      "source": [
        "<a href=\"https://colab.research.google.com/github/sharique-ansari/ScientificComputing/blob/master/scmpHW2.ipynb\" target=\"_parent\"><img src=\"https://colab.research.google.com/assets/colab-badge.svg\" alt=\"Open In Colab\"/></a>"
      ]
    },
    {
      "cell_type": "code",
      "metadata": {
        "id": "E0R9wHu0bg40",
        "colab_type": "code",
        "colab": {}
      },
      "source": [
        "from __future__ import division\n",
        "import numpy as np\n",
        "import scipy as sp\n",
        "import matplotlib.pyplot as plt\n",
        "import numpy.linalg as npla\n",
        "import scipy.linalg as spla\n",
        "import math\n",
        "import pylab\n",
        "from numpy import linalg as LA\n",
        "import pprint\n",
        "import scipy\n",
        "import scipy.linalg"
      ],
      "execution_count": 0,
      "outputs": []
    },
    {
      "cell_type": "code",
      "metadata": {
        "id": "LheDkM0if1DV",
        "colab_type": "code",
        "colab": {}
      },
      "source": [
        "def hilbert(n):\n",
        "    output=np.zeros((n,n), dtype=float)\n",
        "    for i in range(n):\n",
        "        for j in range(n):\n",
        "            temp=math.pow((i+j+1),-1)\n",
        "            output[i][j] = temp\n",
        "    return output\n"
      ],
      "execution_count": 0,
      "outputs": []
    },
    {
      "cell_type": "markdown",
      "metadata": {
        "id": "DfdSGLBEv4s5",
        "colab_type": "text"
      },
      "source": [
        "Input below a value of n"
      ]
    },
    {
      "cell_type": "code",
      "metadata": {
        "id": "ebssDmKVjYu6",
        "colab_type": "code",
        "outputId": "5341e160-b54b-4c8a-dd0a-b645e46d51a6",
        "colab": {
          "base_uri": "https://localhost:8080/",
          "height": 68
        }
      },
      "source": [
        "n = int(input())\n",
        "def solve(n):\n",
        "  h = hilbert(n)\n",
        "  x = np.ones((n,1), dtype=int)\n",
        "\n",
        "  b = np.dot(h, x)\n",
        "  PL, U = scipy.linalg.lu(h, True)\n",
        "  yvalues = np.linalg.solve(PL,b)\n",
        "  xvalues = np.linalg.solve(U,yvalues)\n",
        "\n",
        "  \n",
        "\n",
        "\n",
        "  dx = xvalues - x\n",
        "\n",
        "\n",
        "  r = b - (np.dot(h, xvalues))\n",
        "  print (f\"inf-norm of r: {LA.norm(r,np.inf)}\")\n",
        "\n",
        "\n",
        "  print (f\"inf-norm of dX: {LA.norm(dx,np.inf)}\")\n",
        "solve(n)\n"
      ],
      "execution_count": 0,
      "outputs": [
        {
          "output_type": "stream",
          "text": [
            "14\n",
            "inf-norm of r: 4.440892098500626e-16\n",
            "inf-norm of dX: 8.899732478195734\n"
          ],
          "name": "stdout"
        }
      ]
    },
    {
      "cell_type": "markdown",
      "metadata": {
        "id": "chzwAA1WtgFI",
        "colab_type": "text"
      },
      "source": [
        "For n =17 we get infinity norm of dx as 17.86 and this ratio is closest to one and after this error increases. So we can make n as large as 17 before starting to get significant error"
      ]
    },
    {
      "cell_type": "markdown",
      "metadata": {
        "id": "t118y3Maa48M",
        "colab_type": "text"
      },
      "source": [
        "#Solutions to question 2"
      ]
    },
    {
      "cell_type": "code",
      "metadata": {
        "id": "Y0fHl2Qnmpr7",
        "colab_type": "code",
        "colab": {}
      },
      "source": [
        "evalues = np.geomspace(1e-2, 1e-20, num=10)"
      ],
      "execution_count": 0,
      "outputs": []
    },
    {
      "cell_type": "markdown",
      "metadata": {
        "id": "YvSnJTdpmr7L",
        "colab_type": "text"
      },
      "source": [
        "##Part A"
      ]
    },
    {
      "cell_type": "code",
      "metadata": {
        "id": "lafWwU-ZbJYJ",
        "colab_type": "code",
        "outputId": "5c0d40c3-0bac-4a26-f138-2251e7ce4e42",
        "colab": {
          "base_uri": "https://localhost:8080/",
          "height": 54
        }
      },
      "source": [
        "output = []\n",
        "for e in evalues:\n",
        "  a = np.array([[e, 1], [1, 1]])\n",
        "  b = np.array([e+1, 2])\n",
        "  L = np.array([[1,0],[1/e, 1]])\n",
        "  U = np.array([[e,1],[0,1-(1/e)]])\n",
        "\n",
        "  yvalues = np.linalg.solve(L, b)\n",
        "  xvalues = np.linalg.solve(U,yvalues)\n",
        "  output.append(xvalues-[1,1])\n",
        "errorarr = [abs(i[0])+abs(i[1]) for i in output]\n",
        "print(errorarr)\n",
        "\n",
        "\n",
        "\n",
        "\n"
      ],
      "execution_count": 0,
      "outputs": [
        {
          "output_type": "stream",
          "text": [
            "[8.881784197001252e-16, 1.1013412404281553e-13, 8.22666379463044e-11, 6.07747097092215e-09, 8.274037099909037e-08, 0.00013314402258424174, 0.0007992778373591136, 1.2204460492503133, 1.0, 1.0]\n"
          ],
          "name": "stdout"
        }
      ]
    },
    {
      "cell_type": "markdown",
      "metadata": {
        "id": "1fVtOCq5nAbP",
        "colab_type": "text"
      },
      "source": [
        "Plotting values of e and absolute combined error with logarithmic scaling"
      ]
    },
    {
      "cell_type": "code",
      "metadata": {
        "id": "fHlns-NHm7SR",
        "colab_type": "code",
        "outputId": "7918f0b6-fce7-4296-ce81-7ae21cc1657a",
        "colab": {
          "base_uri": "https://localhost:8080/",
          "height": 299
        }
      },
      "source": [
        "pylab.loglog(evalues,errorarr,'bo',label = \"absolute combined error\")\n",
        "pylab.legend(loc='upper right')\n",
        "pylab.ylabel(\"log(error)\")\n",
        "pylab.xlabel(\"log(h)\")\n",
        "pylab.title('Without pivoting')\n",
        "pylab.show()\n"
      ],
      "execution_count": 0,
      "outputs": [
        {
          "output_type": "display_data",
          "data": {
            "image/png": "[encoded data removed]",
            "text/plain": [
              "<Figure size 432x288 with 1 Axes>"
            ]
          },
          "metadata": {
            "tags": []
          }
        }
      ]
    },
    {
      "cell_type": "markdown",
      "metadata": {
        "id": "__n7FqvbzHRe",
        "colab_type": "text"
      },
      "source": [
        "As e decreases the infinity norm of error increases, Or error increases as e decreases."
      ]
    },
    {
      "cell_type": "markdown",
      "metadata": {
        "id": "z6e9vX7Sm62R",
        "colab_type": "text"
      },
      "source": [
        "##Part B"
      ]
    },
    {
      "cell_type": "code",
      "metadata": {
        "id": "FVaDkvd6hkGo",
        "colab_type": "code",
        "outputId": "c1e6a5af-10d2-454b-c3a5-98da1868eea2",
        "colab": {
          "base_uri": "https://localhost:8080/",
          "height": 34
        }
      },
      "source": [
        "output = []\n",
        "for e in evalues:\n",
        "  a= np.array([[e,1],[1,1]])\n",
        "  b = np.array([e+1,2])\n",
        "  PL,U = sp.linalg.lu(a,True)\n",
        "  yvalues = np.linalg.solve(PL,b)\n",
        "  xvalues = np.linalg.solve(U,yvalues)\n",
        "  output.append(xvalues-[1,1])\n",
        "errorarr = [abs(i[0])+abs(i[1]) for i in output]\n",
        "print(errorarr)\n"
      ],
      "execution_count": 0,
      "outputs": [
        {
          "output_type": "stream",
          "text": [
            "[0.0, 0.0, 0.0, 0.0, 0.0, 4.440892098500626e-16, 0.0, 1.1102230246251565e-16, 0.0, 0.0]\n"
          ],
          "name": "stdout"
        }
      ]
    },
    {
      "cell_type": "markdown",
      "metadata": {
        "id": "TTPg55MZnXCQ",
        "colab_type": "text"
      },
      "source": [
        "Plotting log(e) values versus error values "
      ]
    },
    {
      "cell_type": "code",
      "metadata": {
        "id": "KoZE8gQGJTVN",
        "colab_type": "code",
        "outputId": "c6ab7bca-8aa0-42a2-885d-84d23cd07715",
        "colab": {
          "base_uri": "https://localhost:8080/",
          "height": 295
        }
      },
      "source": [
        "pylab.plot(np.log(evalues),errorarr,'bo',label = \"absolute error combined\")\n",
        "pylab.legend(loc='upper right')\n",
        "pylab.ylabel(\"error\")\n",
        "pylab.xlabel(\"log(h)\")\n",
        "pylab.title('With pivoting')\n",
        "pylab.show()"
      ],
      "execution_count": 0,
      "outputs": [
        {
          "output_type": "display_data",
          "data": {
            "image/png": "[encoded data removed]",
            "text/plain": [
              "<Figure size 432x288 with 1 Axes>"
            ]
          },
          "metadata": {
            "tags": []
          }
        }
      ]
    },
    {
      "cell_type": "markdown",
      "metadata": {
        "id": "d-jzQbpPzkcK",
        "colab_type": "text"
      },
      "source": [
        "Here error does not have a linear relationship with the value of e, as e decreases error remains constant but has spiked values of absolute sum of error at two different values of h."
      ]
    },
    {
      "cell_type": "code",
      "metadata": {
        "id": "y9W1NiGs0CSy",
        "colab_type": "code",
        "colab": {}
      },
      "source": [
        ""
      ],
      "execution_count": 0,
      "outputs": []
    }
  ]
}