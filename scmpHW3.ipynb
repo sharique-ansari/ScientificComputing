{
  "nbformat": 4,
  "nbformat_minor": 0,
  "metadata": {
    "colab": {
      "name": "scmpHW3.ipynb",
      "provenance": [],
      "include_colab_link": true
    },
    "kernelspec": {
      "name": "python3",
      "display_name": "Python 3"
    }
  },
  "cells": [
    {
      "cell_type": "markdown",
      "metadata": {
        "id": "view-in-github",
        "colab_type": "text"
      },
      "source": [
        "<a href=\"https://colab.research.google.com/github/sharique-ansari/ScientificComputing/blob/master/scmpHW3.ipynb\" target=\"_parent\"><img src=\"https://colab.research.google.com/assets/colab-badge.svg\" alt=\"Open In Colab\"/></a>"
      ]
    },
    {
      "cell_type": "markdown",
      "metadata": {
        "id": "G65-HF_L-Vl4",
        "colab_type": "text"
      },
      "source": [
        "#Sharique Ansari\n",
        "##2016249\n",
        "##Homework 3\n"
      ]
    },
    {
      "cell_type": "markdown",
      "metadata": {
        "id": "C18F3wgD_fzS",
        "colab_type": "text"
      },
      "source": [
        "#Solution to question 1\n",
        "##Part A"
      ]
    },
    {
      "cell_type": "code",
      "metadata": {
        "id": "dmClq9nwBPp2",
        "colab_type": "code",
        "colab": {}
      },
      "source": [
        "# imports\n",
        "from __future__ import division\n",
        "import numpy as np\n",
        "import scipy as sp\n",
        "import matplotlib.pyplot as plt\n",
        "import numpy.linalg as npla\n",
        "import scipy.linalg as spla\n",
        "import math\n",
        "import pylab"
      ],
      "execution_count": 0,
      "outputs": []
    },
    {
      "cell_type": "code",
      "metadata": {
        "id": "jVlb_J0QMIBf",
        "colab_type": "code",
        "colab": {}
      },
      "source": [
        "# Helper functions\n",
        "def hilbert(n):\n",
        "    output=np.zeros((n,n), dtype=float)\n",
        "    for i in range(n):\n",
        "        for j in range(n):\n",
        "            temp=math.pow((i+j+1),-1)\n",
        "            output[i][j] = temp\n",
        "    return output\n",
        "\n",
        "def sqrt(x):\n",
        "    return math.sqrt(x)\n",
        "vecsqrt = np.vectorize(sqrt)"
      ],
      "execution_count": 0,
      "outputs": []
    },
    {
      "cell_type": "markdown",
      "metadata": {
        "id": "Qal8h_g8b5F1",
        "colab_type": "text"
      },
      "source": [
        "##Classic gram-schmidt"
      ]
    },
    {
      "cell_type": "code",
      "metadata": {
        "id": "d88lCzfFEdPi",
        "colab_type": "code",
        "colab": {}
      },
      "source": [
        "def gramschmidt(n):\n",
        "    A = hilbert(n)\n",
        "    m,n = A.shape\n",
        "    Q = np.zeros((m,n),dtype=float)\n",
        "    R = np.zeros((m,n),dtype=float)\n",
        "    \n",
        "    for k in range(0, m):\n",
        "        dotp = np.dot(A[:, k], A[:, k])\n",
        "        R[k, k] = vecsqrt(dotp)\n",
        "        Q[:, k] = A[:, k]/R[k, k]\n",
        "\n",
        "        for j in range(k+1, m):\n",
        "            R[k, j] = np.dot(Q[:, k], A[:, j])\n",
        "            A[:, j] = A[:, j] - np.dot(R[k,j],Q[:,k]) \n",
        "    return Q, R\n",
        "\n",
        "# Below method is implemented for applying classic gram-schmidt method twice,\n",
        "# i.e again on Q returned from previous method\n",
        "\n",
        "def classicdouble(A):\n",
        "    m,n = A.shape\n",
        "    Q = np.zeros((m,n),dtype=float)\n",
        "    R = np.zeros((m,n),dtype=float)\n",
        "    \n",
        "    for k in range(0, m):\n",
        "        dotp = np.dot(A[:, k], A[:, k])\n",
        "        R[k, k] = vecsqrt(dotp)\n",
        "        Q[:, k] = A[:, k]/R[k, k]\n",
        "\n",
        "        for j in range(k+1, m):\n",
        "            R[k, j] = np.dot(Q[:, k], A[:, j])\n",
        "            A[:, j] = A[:, j] - np.dot(R[k,j],Q[:,k]) \n",
        "    return Q, R\n"
      ],
      "execution_count": 0,
      "outputs": []
    },
    {
      "cell_type": "code",
      "metadata": {
        "id": "Zk6xo-QVRUqt",
        "colab_type": "code",
        "outputId": "e6ba3a3d-6283-4c2d-8437-756ae1e17fa8",
        "colab": {
          "base_uri": "https://localhost:8080/",
          "height": 686
        }
      },
      "source": [
        "# plotting for classic gram-schmidt\n",
        "\n",
        "nvalues = range(2,25)\n",
        "output = []\n",
        "for i,j in enumerate(nvalues,2):\n",
        "    Q,R = gramschmidt(i)\n",
        "    absv = abs(np.linalg.norm(np.identity(i)-np.dot(np.transpose(Q),Q),2))\n",
        "    # print(absv)\n",
        "    output.append(math.log(absv))\n",
        "\n",
        "pylab.plot(nvalues,output,'bo--',label = \"deviation from I\")\n",
        "pylab.legend(loc='lower right')\n",
        "pylab.ylabel(\"deviation\")\n",
        "pylab.xlabel(\"n\")\n",
        "pylab.title('classic gram-schmidt')\n",
        "pylab.show()"
      ],
      "execution_count": 0,
      "outputs": [
        {
          "output_type": "stream",
          "text": [
            "1.8102377332636852e-15\n",
            "8.581695040991233e-15\n",
            "2.985676933593325e-13\n",
            "1.2092291821090926e-11\n",
            "2.506779113699394e-10\n",
            "5.616295702776767e-09\n",
            "1.5329835345955475e-07\n",
            "3.3613023880283893e-06\n",
            "3.674040899270175e-05\n",
            "0.0059608289765419546\n",
            "0.23102986533836933\n",
            "0.999972679641364\n",
            "0.961561807842266\n",
            "0.8497984297471252\n",
            "0.97482377800888\n",
            "0.998056423838412\n",
            "0.9999038590897396\n",
            "0.9994171495184897\n",
            "0.9999290951211782\n",
            "0.9999710088280306\n",
            "0.9992580540347273\n",
            "0.9999229751934943\n",
            "0.9998653536443995\n"
          ],
          "name": "stdout"
        },
        {
          "output_type": "display_data",
          "data": {
            "image/png": "[encoded data removed]",
            "text/plain": [
              "<Figure size 432x288 with 1 Axes>"
            ]
          },
          "metadata": {
            "tags": []
          }
        }
      ]
    },
    {
      "cell_type": "markdown",
      "metadata": {
        "id": "S4ZXmHNNN3wc",
        "colab_type": "text"
      },
      "source": [
        "##Modified Gram-Schmidth"
      ]
    },
    {
      "cell_type": "code",
      "metadata": {
        "id": "efPGhZiRN2_F",
        "colab_type": "code",
        "outputId": "7f04a1a3-fc56-4873-ce28-afe646875f05",
        "colab": {
          "base_uri": "https://localhost:8080/",
          "height": 68
        }
      },
      "source": [
        "def modgramschmidt(n):\n",
        "    A = hilbert(n)\n",
        "    m,n = A.shape\n",
        "    \n",
        "    Q=np.zeros(A.shape)\n",
        "    R=np.zeros(A.shape)\n",
        "    for k in range(0,m):\n",
        "        \n",
        "        R[k,k] = np.linalg.norm(A[:,k], 2)\n",
        "        Q[:,k] = np.dot(1.0/R[k,k],A[:,k])\n",
        "        for j in range(k+1,m):\n",
        "            R[k,j] = np.inner(A[:,j],Q[:,k])\n",
        "            A[:,j] = A[:,j] - R[k,j]*Q[:,k]\n",
        "    return Q,R\n",
        "Q, R = modgramschmidt(3)\n",
        "print (np.dot(Q, R))"
      ],
      "execution_count": 0,
      "outputs": [
        {
          "output_type": "stream",
          "text": [
            "[[1.         0.5        0.33333333]\n",
            " [0.5        0.33333333 0.25      ]\n",
            " [0.33333333 0.25       0.2       ]]\n"
          ],
          "name": "stdout"
        }
      ]
    },
    {
      "cell_type": "code",
      "metadata": {
        "id": "YjGU0E4DUVsp",
        "colab_type": "code",
        "outputId": "9047c80f-38c5-4bd9-90f1-d946cb7e3343",
        "colab": {
          "base_uri": "https://localhost:8080/",
          "height": 686
        }
      },
      "source": [
        "# plotting for modified gram-schmidt\n",
        "\n",
        "nvalues = range(2,25)\n",
        "output = []\n",
        "for i,j in enumerate(nvalues,2):\n",
        "    Q,R = modgramschmidt(i)\n",
        "    absv = abs(np.linalg.norm(np.identity(i)-np.dot(np.transpose(Q),Q),2))\n",
        "    # print(absv)\n",
        "    output.append(math.log(absv))\n",
        "\n",
        "pylab.plot(nvalues,output,'bo--',label = \"deviation from I\")\n",
        "pylab.legend(loc='lower right')\n",
        "pylab.ylabel(\"deviation\")\n",
        "pylab.xlabel(\"n\")\n",
        "pylab.title('modified gram-schmidt')\n",
        "pylab.show()"
      ],
      "execution_count": 0,
      "outputs": [
        {
          "output_type": "stream",
          "text": [
            "1.748838621544152e-15\n",
            "5.186144719264882e-15\n",
            "2.9753813302657307e-13\n",
            "1.204085381011086e-11\n",
            "2.512061034300381e-10\n",
            "5.521005564966702e-09\n",
            "1.5586904085028192e-07\n",
            "4.309144491404371e-06\n",
            "1.844023627651074e-05\n",
            "0.006496656874504463\n",
            "0.2596746898408536\n",
            "0.8192443810783507\n",
            "0.6832446935631583\n",
            "0.9892405485494042\n",
            "0.9752387997209471\n",
            "0.9968489642972203\n",
            "0.9999983950308567\n",
            "0.9998749955378781\n",
            "0.9999320768183094\n",
            "0.9996910926793454\n",
            "0.9986967523254501\n",
            "0.9999932371917493\n",
            "0.9998399188475569\n"
          ],
          "name": "stdout"
        },
        {
          "output_type": "display_data",
          "data": {
            "image/png": "[encoded data removed]",
            "text/plain": [
              "<Figure size 432x288 with 1 Axes>"
            ]
          },
          "metadata": {
            "tags": []
          }
        }
      ]
    },
    {
      "cell_type": "code",
      "metadata": {
        "id": "sIH_24ALWA_W",
        "colab_type": "code",
        "outputId": "d19b5479-4369-4263-f78f-886874364183",
        "colab": {
          "base_uri": "https://localhost:8080/",
          "height": 295
        }
      },
      "source": [
        "# plotting for double classic gram-schmidt\n",
        "\n",
        "nvalues = range(2,50)\n",
        "output = []\n",
        "for i,j in enumerate(nvalues,2):\n",
        "    Q1,R = gramschmidt(i)\n",
        "    Q,R = classicdouble(Q1)\n",
        "    absv = abs(np.linalg.norm(np.identity(i)-np.dot(np.transpose(Q),Q),2))\n",
        "    # print(absv)\n",
        "    output.append(math.log(absv))\n",
        "\n",
        "pylab.plot(nvalues,output,'bo--',label = \"deviation from I\")\n",
        "pylab.legend(loc='lower right')\n",
        "pylab.ylabel(\"deviation\")\n",
        "pylab.xlabel(\"n\")\n",
        "pylab.title('class gram-schmidt double')\n",
        "pylab.show()"
      ],
      "execution_count": 0,
      "outputs": [
        {
          "output_type": "display_data",
          "data": {
            "image/png": "[encoded data removed]",
            "text/plain": [
              "<Figure size 432x288 with 1 Axes>"
            ]
          },
          "metadata": {
            "tags": []
          }
        }
      ]
    },
    {
      "cell_type": "markdown",
      "metadata": {
        "id": "usyPIlC2bKN3",
        "colab_type": "text"
      },
      "source": [
        "This graph shows a zig-zag relationship with values of n and is not constant.\n",
        "As can be seen both classic gram-schmidt and modified gram-schmidt method output pretty similar results and increase in accuracy as value of n increases.\n",
        "but on the other hand classic double gram-schmidt method follows the graph similar to that of householder with non-linearity."
      ]
    },
    {
      "cell_type": "markdown",
      "metadata": {
        "id": "mKE9LQvrG566",
        "colab_type": "text"
      },
      "source": [
        "##Householder method"
      ]
    },
    {
      "cell_type": "code",
      "metadata": {
        "id": "A7kGivxYVbeZ",
        "colab_type": "code",
        "outputId": "3de3b803-ce54-4b5e-c18e-daf35748d392",
        "colab": {
          "base_uri": "https://localhost:8080/",
          "height": 295
        }
      },
      "source": [
        "# plotting for householder method\n",
        "nvalues = range(2,50)\n",
        "output = []\n",
        "for i,j in enumerate(nvalues,2):\n",
        "    Q,R = np.linalg.qr(hilbert(i))\n",
        "    # Q,R = modgramschmidt(i)\n",
        "    absv = abs(np.linalg.norm(np.identity(i)-np.dot(np.transpose(Q),Q),2))\n",
        "    # print(absv)\n",
        "    output.append(math.log(absv))\n",
        "\n",
        "pylab.plot(nvalues,output,'bo--',label = \"deviation from I\")\n",
        "pylab.legend(loc='lower right')\n",
        "pylab.ylabel(\"deviation\")\n",
        "pylab.xlabel(\"n\")\n",
        "pylab.title('householder method')\n",
        "pylab.show()"
      ],
      "execution_count": 0,
      "outputs": [
        {
          "output_type": "display_data",
          "data": {
            "image/png": "[encoded data removed]",
            "text/plain": [
              "<Figure size 432x288 with 1 Axes>"
            ]
          },
          "metadata": {
            "tags": []
          }
        }
      ]
    },
    {
      "cell_type": "markdown",
      "metadata": {
        "id": "VClQ4kCHcNtW",
        "colab_type": "text"
      },
      "source": [
        "We can see that this graph not linear with the value of n but deviation from I continue to decrease with increase in value of n. This graph has same irregularities as clasiic double gram-schmidt graph but is much different from other 2."
      ]
    },
    {
      "cell_type": "markdown",
      "metadata": {
        "id": "-ePWZrYmXl2J",
        "colab_type": "text"
      },
      "source": [
        "Cholesky method"
      ]
    },
    {
      "cell_type": "code",
      "metadata": {
        "id": "nU_wSiSqVtEP",
        "colab_type": "code",
        "outputId": "ffb17c7c-1a34-4fae-eda6-81721df00d5e",
        "colab": {
          "base_uri": "https://localhost:8080/",
          "height": 499
        }
      },
      "source": [
        "# # plotting for cholesky\n",
        "nvalues = range(2,14)\n",
        "output = []\n",
        "for i,j in enumerate(nvalues,2):\n",
        "    A = hilbert(i)\n",
        "    L = np.linalg.cholesky(A)\n",
        "    l_inv_trans = np.linalg.inv(np.transpose(L)) \n",
        "    Q = np.dot(A,l_inv_trans)\n",
        "    absv = abs(np.linalg.norm(np.identity(i)-np.dot(np.transpose(Q),Q),2))\n",
        "    print(absv)\n",
        "    output.append(math.log(absv))\n",
        "\n",
        "pylab.plot(nvalues,output,'bo--',label = \"deviation from I\")\n",
        "pylab.legend(loc='lower right')\n",
        "pylab.ylabel(\"deviation\")\n",
        "pylab.xlabel(\"n\")\n",
        "pylab.title('cholesky method')\n",
        "pylab.show()"
      ],
      "execution_count": 0,
      "outputs": [
        {
          "output_type": "stream",
          "text": [
            "0.9342585459106648\n",
            "0.9973126596442266\n",
            "0.9999032976959773\n",
            "0.9999967120712278\n",
            "0.9999998917200514\n",
            "0.9999999965061013\n",
            "0.9999999998888461\n",
            "0.9999999999965\n",
            "0.9999999999998905\n",
            "0.9999999999999962\n",
            "0.9999999999999999\n",
            "0.9999999999999997\n"
          ],
          "name": "stdout"
        },
        {
          "output_type": "display_data",
          "data": {
            "image/png": "[encoded data removed]",
            "text/plain": [
              "<Figure size 432x288 with 1 Axes>"
            ]
          },
          "metadata": {
            "tags": []
          }
        }
      ]
    },
    {
      "cell_type": "markdown",
      "metadata": {
        "id": "6jLAPO4mcsz9",
        "colab_type": "text"
      },
      "source": [
        "This graph is shows decrease in deviation from I as we increase the value of n, very similar to the first two graph we saw in this notebook. But differs a lot from both householders graph and classic-double gram-schmidt graph. "
      ]
    },
    {
      "cell_type": "code",
      "metadata": {
        "id": "D35FuIkmXs_b",
        "colab_type": "code",
        "colab": {}
      },
      "source": [
        ""
      ],
      "execution_count": 0,
      "outputs": []
    },
    {
      "cell_type": "markdown",
      "metadata": {
        "id": "aKBu_XtHdcZf",
        "colab_type": "text"
      },
      "source": [
        "##part D"
      ]
    },
    {
      "cell_type": "markdown",
      "metadata": {
        "id": "eBn04dKUdid7",
        "colab_type": "text"
      },
      "source": [
        "We get very great results from applying hilberts matrices to classic gram-schmidt, modified gram-schmidt and even cholesky method, were we saw that the orthogonal(O^t.O) matrices are pretty close to the Identity matrix. But we don't receive such consistent results from householders method and classic double gram-schmidt method."
      ]
    },
    {
      "cell_type": "code",
      "metadata": {
        "id": "WPHsGu85dd8M",
        "colab_type": "code",
        "colab": {}
      },
      "source": [
        ""
      ],
      "execution_count": 0,
      "outputs": []
    }
  ]
}