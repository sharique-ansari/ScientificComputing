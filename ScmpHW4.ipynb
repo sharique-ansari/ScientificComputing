{
  "nbformat": 4,
  "nbformat_minor": 0,
  "metadata": {
    "colab": {
      "name": "ScmpHW4.ipynb",
      "provenance": [],
      "include_colab_link": true
    },
    "kernelspec": {
      "name": "python3",
      "display_name": "Python 3"
    }
  },
  "cells": [
    {
      "cell_type": "markdown",
      "metadata": {
        "id": "view-in-github",
        "colab_type": "text"
      },
      "source": [
        "<a href=\"https://colab.research.google.com/github/sharique-ansari/ScientificComputing/blob/master/ScmpHW4.ipynb\" target=\"_parent\"><img src=\"https://colab.research.google.com/assets/colab-badge.svg\" alt=\"Open In Colab\"/></a>"
      ]
    },
    {
      "cell_type": "markdown",
      "metadata": {
        "id": "HmBFRF4wNPs4",
        "colab_type": "text"
      },
      "source": [
        "\n",
        "\n",
        "##Sharique Ansari\n",
        "###2016249\n",
        "SCMP - Homework 4\n",
        "\n"
      ]
    },
    {
      "cell_type": "code",
      "metadata": {
        "id": "GfkNfsduMNaV",
        "colab_type": "code",
        "colab": {}
      },
      "source": [
        "from __future__ import division\n",
        "import numpy as np\n",
        "import scipy as sp\n",
        "import matplotlib.pyplot as plt\n",
        "import numpy.linalg as npla\n",
        "import scipy.linalg as spla"
      ],
      "execution_count": 0,
      "outputs": []
    },
    {
      "cell_type": "markdown",
      "metadata": {
        "id": "iY0SCprbQzUt",
        "colab_type": "text"
      },
      "source": [
        "##Solution 1"
      ]
    },
    {
      "cell_type": "code",
      "metadata": {
        "id": "658Xts4gocT0",
        "colab_type": "code",
        "outputId": "5b28d6f8-1280-4ab2-d665-56bda4b739f2",
        "colab": {
          "base_uri": "https://localhost:8080/",
          "height": 238
        }
      },
      "source": [
        "A = np.matrix([[2, 3, 2] , [10, 3, 4] , [3, 6, 1.0]])\n",
        "x = np.matrix([1.0, 1, 1]).T\n",
        "iterations = 17\n",
        "\n",
        "for i in range (iterations):\n",
        "    # print(f\"{i+1}th iteration\")\n",
        "    eigenvalue = npla.norm(x,np.inf)\n",
        "    x = A*x\n",
        "    # print(f\"norm is {npla.norm(x,np.inf)}\")\n",
        "    x = x/eigenvalue\n",
        "    \n",
        "    \n",
        "print()\n",
        "print()\n",
        "print(x)\n",
        "print()\n",
        "print()\n",
        "\n",
        "norm = npla.norm(x)\n",
        "print (f'{x/norm}')\n",
        "print (npla.eig(A)[1])"
      ],
      "execution_count": 0,
      "outputs": [
        {
          "output_type": "stream",
          "text": [
            "\n",
            "\n",
            "[[ 5.5       ]\n",
            " [11.00000001]\n",
            " [ 8.25      ]]\n",
            "\n",
            "\n",
            "[[0.37139068]\n",
            " [0.74278135]\n",
            " [0.55708601]]\n",
            "[[ 3.71390676e-01  1.82574186e-01 -4.13692033e-16]\n",
            " [ 7.42781353e-01  3.65148372e-01 -5.54700196e-01]\n",
            " [ 5.57086015e-01 -9.12870929e-01  8.32050294e-01]]\n"
          ],
          "name": "stdout"
        }
      ]
    },
    {
      "cell_type": "code",
      "metadata": {
        "id": "YJxa1dRnwNSV",
        "colab_type": "code",
        "colab": {}
      },
      "source": [
        "def invitr(A):\n",
        "  LUP = spla.lu_factor(A,True)\n",
        "  n = A.shape[0]\n",
        "  x = np.matrix([1.0, 1, 1]).T\n",
        "  spla.lu_solve(LUP,x,True)\n",
        "  lold = 0\n",
        "  lmin = 1./npla.norm(x)\n",
        "  x*=lmin\n",
        "  for i in range(iterations):\n",
        "    lold=lmin\n",
        "    spla.lu_solve(LUP,x,overwrite_b=True)\n",
        "    lmin = 1./npla.norm(x)\n",
        "    x*=lmin\n",
        "  return lmin,-x\n"
      ],
      "execution_count": 0,
      "outputs": []
    },
    {
      "cell_type": "code",
      "metadata": {
        "id": "krCLsYdV5Qr3",
        "colab_type": "code",
        "outputId": "6f9f0851-cbaf-4e18-e7aa-0e69aaccdbcc",
        "colab": {
          "base_uri": "https://localhost:8080/",
          "height": 88
        }
      },
      "source": [
        "invitr(A)"
      ],
      "execution_count": 0,
      "outputs": [
        {
          "output_type": "execute_result",
          "data": {
            "text/plain": [
              "(1.9989544554868255, matrix([[ 0.18276509],\n",
              "         [ 0.3649273 ],\n",
              "         [-0.91292113]]))"
            ]
          },
          "metadata": {
            "tags": []
          },
          "execution_count": 50
        }
      ]
    },
    {
      "cell_type": "markdown",
      "metadata": {
        "id": "YNEWhGrwZY9C",
        "colab_type": "text"
      },
      "source": [
        "As can be seen these values are pretty close to minimum eigenvalue and corresponding eigenvector"
      ]
    },
    {
      "cell_type": "markdown",
      "metadata": {
        "id": "pPdbeK6JQpcu",
        "colab_type": "text"
      },
      "source": [
        "##Solution 2"
      ]
    },
    {
      "cell_type": "code",
      "metadata": {
        "id": "UqOC0q0T5T_e",
        "colab_type": "code",
        "outputId": "2fc9cdb9-e026-423b-a5d1-da27dac4e442",
        "colab": {
          "base_uri": "https://localhost:8080/",
          "height": 204
        }
      },
      "source": [
        "A = np.matrix([[6, 2, 1] , [2, 3, 1] , [1, 1, 1.0]])\n",
        "print (npla.eig(A))\n",
        "x = np.matrix([1.0, 1, 1]).T\n",
        "lam = 2\n",
        "# print(A-np.matrix([[2,0,0],[0,2,0],[0,0,2]]))\n",
        "inv = npla.inv(A-np.matrix([[2,0,0],[0,2,0],[0,0,2]]))\n",
        "# print(inv)\n",
        "\n",
        "iterations = 17\n",
        "\n",
        "for i in range (iterations):\n",
        "    # print(f\"{i+1}th iteration\")\n",
        "    eigenvalue = npla.norm(x,np.inf)\n",
        "    \n",
        "    x = inv*x\n",
        "    # print(f\"norm is {npla.norm(x,np.inf)}\")\n",
        "    x = x/eigenvalue\n",
        "# print(npla.norm(x))\n",
        "print()\n",
        "print()\n",
        "print(\"eigenvector closest to 2 is\")\n",
        "print(-x/npla.norm(x))\n",
        "print(\"Eigenvalue is\")\n",
        "print((1/eigenvalue)+lam)\n"
      ],
      "execution_count": 0,
      "outputs": [
        {
          "output_type": "stream",
          "text": [
            "(array([7.28799214, 2.13307448, 0.57893339]), matrix([[ 0.86643225,  0.49742503, -0.0431682 ],\n",
            "        [ 0.45305757, -0.8195891 , -0.35073145],\n",
            "        [ 0.20984279, -0.28432735,  0.9354806 ]]))\n",
            "\n",
            "\n",
            "eigenvector closest to 2 is\n",
            "[[ 0.49742503]\n",
            " [-0.8195891 ]\n",
            " [-0.28432735]]\n",
            "Eigenvalue is\n",
            "2.133074475348525\n"
          ],
          "name": "stdout"
        }
      ]
    },
    {
      "cell_type": "markdown",
      "metadata": {
        "id": "c0Q21UhHQsaK",
        "colab_type": "text"
      },
      "source": [
        "##Solution 3"
      ]
    },
    {
      "cell_type": "code",
      "metadata": {
        "id": "SrGkvIfdOmE-",
        "colab_type": "code",
        "outputId": "766b8a98-b067-4f0c-a34a-85b3b0c2bfda",
        "colab": {
          "base_uri": "https://localhost:8080/",
          "height": 357
        }
      },
      "source": [
        "from pylab import *\n",
        "A = array([[6, 2, 1] , [2, 3, 1] , [1, 1, 1.0]])\n",
        "\n",
        "print (\"\\nA = \")\n",
        "print (A)\n",
        "\n",
        "lam,X = eig(A)\n",
        "\n",
        "print (\"\\nEigenvalues: \",lam)\n",
        "\n",
        "v = randn(3)\n",
        "print (\"\\nStarting guess v: \",v)\n",
        "print (\" \")\n",
        "\n",
        "mu = 1. + 1j\n",
        "print (\"k = %s, mu = %21.16f + %21.16fj\" %  (0,mu.real,mu.imag))\n",
        "\n",
        "for k in range(1,10):\n",
        "    B = A - mu*eye(3)\n",
        "    try:\n",
        "        w = solve(B,v)\n",
        "    except:\n",
        "        print (\"Matrix is singular!   Converged solution\")\n",
        "        break\n",
        "    v = w / norm(w,2)\n",
        "    mu = dot(conj(v.T), dot(A,v))\n",
        "    print (\"k = %s, mu = %21.16f + %21.16fj\" %  (k,mu.real,mu.imag))"
      ],
      "execution_count": 0,
      "outputs": [
        {
          "output_type": "stream",
          "text": [
            "\n",
            "A = \n",
            "[[6. 2. 1.]\n",
            " [2. 3. 1.]\n",
            " [1. 1. 1.]]\n",
            "\n",
            "Eigenvalues:  [7.28799214 2.13307448 0.57893339]\n",
            "\n",
            "Starting guess v:  [ 1.37263286 -1.34031602 -0.04275991]\n",
            " \n",
            "k = 0, mu =    1.0000000000000000 +    1.0000000000000000j\n",
            "k = 1, mu =    2.0419114581010609 +    0.0000000000000001j\n",
            "k = 2, mu =    2.1325830696097383 +    0.0000000000000000j\n",
            "k = 3, mu =    2.1330744752985344 +    0.0000000000000000j\n",
            "k = 4, mu =    2.1330744753485256 +   -0.0000000000000002j\n",
            "k = 5, mu =    2.1330744753485251 +    0.0000000000000000j\n",
            "k = 6, mu =    2.1330744753485251 +    0.0000000000000001j\n",
            "k = 7, mu =    2.1330744753485256 +   -0.0000000000000001j\n",
            "k = 8, mu =    2.1330744753485251 +    0.0000000000000000j\n",
            "k = 9, mu =    2.1330744753485247 +   -0.0000000000000001j\n"
          ],
          "name": "stdout"
        }
      ]
    },
    {
      "cell_type": "code",
      "metadata": {
        "id": "rbbpfPmLdn_b",
        "colab_type": "code",
        "colab": {}
      },
      "source": [
        "import numpy as np\n",
        "import math\n",
        "import pprint\n",
        "from numpy import linalg as LA\n",
        "\n",
        "def rayray(A):\n",
        "\tx = np.matrix([1.0, 0, 0]).T\n",
        "\n",
        "\tI = np.matrix([[1, 0, 0], [0, 1, 0], [0, 0, 1]])\n",
        "\n",
        "\ttol = 2*10**(-16)\n",
        "\n",
        "\tite = 0\n",
        "\n",
        "\tv = []\n",
        "\n",
        "\tu1 = []\n",
        "\n",
        "\tx1 = []\n",
        "\n",
        "\twhile True:\n",
        "\t\tite = ite + 1\n",
        "\t\txT = x.T\n",
        "\t\tu = (xT*A*x)/(xT*x)\n",
        "\t\tuk = float(u[0])\n",
        "\t\tB = A - (uk*I)\n",
        "\n",
        "\t\tu1.append(uk)\n",
        "\n",
        "\t\tx = np.linalg.solve(B,x)\n",
        "\n",
        "\t\tx1.append(x)\n",
        "\t\tx = x/(np.linalg.norm(x,np.inf))\n",
        "\n",
        "\t\tif len(x1)>2:\n",
        "\t\t\tvnew = np.linalg.norm(x1[-1],np.inf)\n",
        "\t\t\tv.append(vnew)\n",
        "\t\t\t# print(\"vnew:\")\n",
        "\t\t\t# print(vnew)\n",
        "\t\t\tvold = np.linalg.norm(x1[-2],np.inf)\n",
        "\t\t\t# print(\"vold:\")\n",
        "\t\t\t# print(vold)\n",
        "\t\t\tif abs((vnew - vold)/vnew) < tol:\n",
        "\t\t\t\t# print((vnew - vold)/vnew)\n",
        "\t\t\t\tbreak\n",
        "\n",
        "\tprint(\"Rayleigh quotient iteration:-\")\n",
        "\tprint (f\"{ite} iterations\")\n",
        "\n",
        "\tprint(\"closest x: \")\n",
        "\tpprint.pprint(x)\n",
        "\tprint(\"eigenvalue: \")\n",
        "\tpprint.pprint(u1[-1])\n",
        "\n",
        "A1 = np.matrix([[6, 2, 1], [2, 3, 1], [1, 1, 1]])\n",
        "\n",
        "rayray(A1)"
      ],
      "execution_count": 0,
      "outputs": []
    },
    {
      "cell_type": "markdown",
      "metadata": {
        "id": "VVBLq0TKQwAc",
        "colab_type": "text"
      },
      "source": [
        "##Solution 4"
      ]
    },
    {
      "cell_type": "code",
      "metadata": {
        "id": "OWQsq06Ak32d",
        "colab_type": "code",
        "colab": {}
      },
      "source": [
        ""
      ],
      "execution_count": 0,
      "outputs": []
    }
  ]
}